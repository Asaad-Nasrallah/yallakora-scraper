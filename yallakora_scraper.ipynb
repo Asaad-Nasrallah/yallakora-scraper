{
 "cells": [
  {
   "cell_type": "code",
   "execution_count": 1,
   "id": "936b306d",
   "metadata": {},
   "outputs": [],
   "source": [
    "import requests\n",
    "from bs4 import BeautifulSoup"
   ]
  },
  {
   "cell_type": "code",
   "execution_count": 2,
   "id": "1a0b21c0",
   "metadata": {},
   "outputs": [],
   "source": [
    "html_content = requests.get(\"https://www.yallakora.com/match-center#nav-menu\").text\n",
    "soup = BeautifulSoup(html_content,\"html.parser\")"
   ]
  },
  {
   "cell_type": "code",
   "execution_count": 3,
   "id": "fa82e71b",
   "metadata": {},
   "outputs": [],
   "source": [
    "list_of_matches = []\n",
    "championschips = soup.find_all(\"div\",class_=\"matchesList\")\n",
    "for champion in championschips:\n",
    "    champion_name = champion.find(\"h2\").text.strip()\n",
    "    champion_mathes = champion.find_all(\"div\",class_=\"item future liItem\")\n",
    "    for match in champion_mathes:\n",
    "        teamA = match.find(\"div\",class_=\"teamA\")\n",
    "        teamA_name = teamA.find(\"p\").text.strip()\n",
    "        teamB = match.find(\"div\",class_=\"teamB\")\n",
    "        teamB_name = teamB.find(\"p\").text.strip() \n",
    "        match_time = match.find(\"span\",class_=\"time\").text.strip()\n",
    "        list_of_matches.append([champion_name,teamA_name,teamB_name, match_time])\n",
    "\n",
    "        \n"
   ]
  },
  {
   "cell_type": "code",
   "execution_count": 4,
   "id": "69bc6813",
   "metadata": {},
   "outputs": [],
   "source": [
    "import csv\n",
    "file_name = \"yallakora.csv\"\n",
    "with open(file_name,mode=\"w\",encoding=\"utf-8-sig\",newline=\"\") as file:\n",
    "    writer = csv.writer(file)\n",
    "    writer.writerow([\"اسم البطولة\",\"الفريق الاول \",\"الفريق التاني \",\"التوقيت\"])\n",
    "    writer.writerows(list_of_matches)"
   ]
  },
  {
   "cell_type": "code",
   "execution_count": null,
   "id": "f3132cc2",
   "metadata": {},
   "outputs": [],
   "source": []
  }
 ],
 "metadata": {
  "kernelspec": {
   "display_name": "Python 3",
   "language": "python",
   "name": "python3"
  },
  "language_info": {
   "codemirror_mode": {
    "name": "ipython",
    "version": 3
   },
   "file_extension": ".py",
   "mimetype": "text/x-python",
   "name": "python",
   "nbconvert_exporter": "python",
   "pygments_lexer": "ipython3",
   "version": "3.11.1"
  }
 },
 "nbformat": 4,
 "nbformat_minor": 5
}
